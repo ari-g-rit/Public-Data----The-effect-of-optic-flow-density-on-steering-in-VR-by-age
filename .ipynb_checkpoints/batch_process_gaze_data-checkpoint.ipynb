{
 "cells": [
  {
   "cell_type": "code",
   "execution_count": 1,
   "id": "2accd55f",
   "metadata": {},
   "outputs": [],
   "source": [
    "import sys,os\n",
    "import pandas as pd\n",
    "import numpy as np\n",
    "import json\n",
    "import sys\n",
    "import pickle\n",
    "import seaborn as sns\n",
    "import types\n",
    "import numbers\n",
    "import warnings\n",
    "\n",
    "import _pickle as cPickle\n",
    "import bz2\n",
    "\n",
    "from pathlib import Path\n",
    "\n",
    "import warnings\n",
    "warnings.filterwarnings(\"ignore\") # uncomment this for package deprecated warnings \n",
    "\n",
    "from matplotlib import pyplot as plt\n",
    "#from pandas.io.json import json_normalize\n",
    "plt.rcParams['font.family'] = 'serif' # latex default font\n",
    "plt.rcParams['font.serif'] = ['Computer Modern']\n",
    "\n",
    "import seaborn as sns\n",
    "\n",
    "import logging\n",
    "logger = logging.getLogger(__name__)\n",
    "\n",
    "# These lines allow me to see logging.info messages in my jupyter cell output\n",
    "logger.addHandler(logging.StreamHandler(stream=sys.stdout)) \n",
    "logger.setLevel(logging.DEBUG)\n"
   ]
  },
  {
   "cell_type": "code",
   "execution_count": 2,
   "id": "5b8d7f8d",
   "metadata": {},
   "outputs": [],
   "source": [
    "%matplotlib inline\n",
    "\n",
    "from matplotlib import rcParams\n",
    "params = {\"text.usetex\": True,\n",
    "          \"font.family\" : \"serif\",\n",
    "          \"font.serif\" : [\"Computer Modern Serif\"]}\n",
    "plt.rcParams.update(params)\n",
    "sns.set_style('darkgrid')\n",
    "sys.path.append('..')\n",
    "sys.path.append('..')"
   ]
  },
  {
   "cell_type": "code",
   "execution_count": 3,
   "id": "402a1c0d",
   "metadata": {},
   "outputs": [],
   "source": [
    "from process_data_1 import subject_data, trial_data"
   ]
  },
  {
   "cell_type": "markdown",
   "id": "359305e5-05ac-4340-8f1e-1b0bfbdf686b",
   "metadata": {},
   "source": [
    "### Gather subject subdirectors from a data folder"
   ]
  },
  {
   "cell_type": "markdown",
   "id": "fb58d400",
   "metadata": {},
   "source": [
    "Takes a LONG TIME..."
   ]
  },
  {
   "cell_type": "code",
   "execution_count": 5,
   "id": "5decc4ec-d73c-49b9-be4f-f7d21ad33f3d",
   "metadata": {},
   "outputs": [
    {
     "name": "stdout",
     "output_type": "stream",
     "text": [
      "Subjects to process:  ['youngerDriver7', 'olderDriver3', 'youngerDriver3', 'olderDriver7', 'youngerDriver12', 'youngerDriver8', 'olderDriver2', 'youngerDriver6', 'youngerDriver2', 'youngerDriver13', 'olderDriver1', 'youngerDriver5', 'youngerDriver14', 'youngerDriver10', 'olderDriver5', 'youngerDriver1', 'youngerDriver4']\n"
     ]
    }
   ],
   "source": [
    "analyze_gaze = True\n",
    "use_cached_data = True # the pickle files must have gaze data analyzed\n",
    "cbPatient = True\n",
    "\n",
    "exclude = ['olderDriver4','olderDriver6','olderDriver8','olderDriver9','youngerDriver9','youngerDriver11','youngerDriver15']\n",
    "pickled_data_folder = os.path.join(os.getcwd(), 'pickled-data')\n",
    "\n",
    "sub_folder_list = [f.path.split('_')[0] for f in os.scandir(pickled_data_folder) if (f.name[:5] == 'older' or f.name[:5]=='young') and f.name[:-17] not in exclude]\n",
    "\n",
    "print('Subjects to process: ', [subfolder.split(r'/')[-1].split('_')[0] for subfolder in sub_folder_list])"
   ]
  },
  {
   "cell_type": "code",
   "execution_count": 6,
   "id": "bf227e8e-1cf1-4ae2-8f0c-2a2d7f92d052",
   "metadata": {},
   "outputs": [
    {
     "name": "stdout",
     "output_type": "stream",
     "text": [
      "** 1 / 17 :  youngerDriver7  **\n",
      "self.pickle_path:  pickled-data/youngerDriver7_pickle_dict.pbz2\n",
      "pickled-data/youngerDriver7_pickle_dict.pbz2\n",
      "** 2 / 17 :  olderDriver3  **\n",
      "self.pickle_path:  pickled-data/olderDriver3_pickle_dict.pbz2\n",
      "pickled-data/olderDriver3_pickle_dict.pbz2\n",
      "** 3 / 17 :  youngerDriver3  **\n",
      "self.pickle_path:  pickled-data/youngerDriver3_pickle_dict.pbz2\n",
      "pickled-data/youngerDriver3_pickle_dict.pbz2\n",
      "** 4 / 17 :  olderDriver7  **\n",
      "self.pickle_path:  pickled-data/olderDriver7_pickle_dict.pbz2\n",
      "pickled-data/olderDriver7_pickle_dict.pbz2\n",
      "** 5 / 17 :  youngerDriver12  **\n",
      "self.pickle_path:  pickled-data/youngerDriver12_pickle_dict.pbz2\n",
      "pickled-data/youngerDriver12_pickle_dict.pbz2\n",
      "** 6 / 17 :  youngerDriver8  **\n",
      "self.pickle_path:  pickled-data/youngerDriver8_pickle_dict.pbz2\n",
      "pickled-data/youngerDriver8_pickle_dict.pbz2\n",
      "** 7 / 17 :  olderDriver2  **\n",
      "self.pickle_path:  pickled-data/olderDriver2_pickle_dict.pbz2\n",
      "pickled-data/olderDriver2_pickle_dict.pbz2\n",
      "** 8 / 17 :  youngerDriver6  **\n",
      "self.pickle_path:  pickled-data/youngerDriver6_pickle_dict.pbz2\n",
      "pickled-data/youngerDriver6_pickle_dict.pbz2\n",
      "** 9 / 17 :  youngerDriver2  **\n",
      "self.pickle_path:  pickled-data/youngerDriver2_pickle_dict.pbz2\n",
      "pickled-data/youngerDriver2_pickle_dict.pbz2\n",
      "** 10 / 17 :  youngerDriver13  **\n",
      "self.pickle_path:  pickled-data/youngerDriver13_pickle_dict.pbz2\n",
      "pickled-data/youngerDriver13_pickle_dict.pbz2\n",
      "** 11 / 17 :  olderDriver1  **\n",
      "self.pickle_path:  pickled-data/olderDriver1_pickle_dict.pbz2\n",
      "pickled-data/olderDriver1_pickle_dict.pbz2\n",
      "** 12 / 17 :  youngerDriver5  **\n",
      "self.pickle_path:  pickled-data/youngerDriver5_pickle_dict.pbz2\n",
      "pickled-data/youngerDriver5_pickle_dict.pbz2\n",
      "** 13 / 17 :  youngerDriver14  **\n",
      "self.pickle_path:  pickled-data/youngerDriver14_pickle_dict.pbz2\n",
      "pickled-data/youngerDriver14_pickle_dict.pbz2\n",
      "** 14 / 17 :  youngerDriver10  **\n",
      "self.pickle_path:  pickled-data/youngerDriver10_pickle_dict.pbz2\n",
      "pickled-data/youngerDriver10_pickle_dict.pbz2\n",
      "** 15 / 17 :  olderDriver5  **\n",
      "self.pickle_path:  pickled-data/olderDriver5_pickle_dict.pbz2\n",
      "pickled-data/olderDriver5_pickle_dict.pbz2\n",
      "** 16 / 17 :  youngerDriver1  **\n",
      "self.pickle_path:  pickled-data/youngerDriver1_pickle_dict.pbz2\n",
      "pickled-data/youngerDriver1_pickle_dict.pbz2\n",
      "** 17 / 17 :  youngerDriver4  **\n",
      "self.pickle_path:  pickled-data/youngerDriver4_pickle_dict.pbz2\n",
      "pickled-data/youngerDriver4_pickle_dict.pbz2\n"
     ]
    }
   ],
   "source": [
    "start_at = 0\n",
    "\n",
    "all_trials_gaze = pd.DataFrame()\n",
    "subject_results = pd.DataFrame()\n",
    "\n",
    "for subnum, subfolder in enumerate(sub_folder_list):\n",
    "#for subnum, subfolder in enumerate([]):\n",
    "    print(f'** {subnum+1} / {len(sub_folder_list)} :  {subfolder.split(\"/\")[-1].split(\"_\")[0]}  **')\n",
    "\n",
    "    a_subject = subject_data(subfolder, \n",
    "                             offset_car_xz=(-.4304, 0), \n",
    "                             estimate_head_trackers=False,\n",
    "                             use_cached_data=True)\n",
    "    print(a_subject.pickle_path)\n",
    "    \n",
    "    all_trials_gaze = pd.DataFrame()\n",
    "\n",
    "    for trialIndex, trial_results_row in a_subject.results.iterrows(): \n",
    "        \n",
    "        a_trial = a_subject.get_trial_from_results(trial_results_row)\n",
    "        a_trial.calc_gaze_azimuth_relative_to_car()\n",
    "        a_trial.calc_gaze_elevation_rel_head()\n",
    "        plts = a_trial.processed_gaze_data['pupilLabsTimeStamp'] \n",
    "        a_trial.processed_gaze_data['pupil_rel_time']  = plts - plts[0]\n",
    "\n",
    "        # a_trial.filter_spherical_coords = types.MethodType(filter_spherical_coords, a_trial)\n",
    "        a_trial.processed_gaze_data['gaze_az_rel_car_filtered'] = a_trial.filter_spherical_coords('gaze_az_rel_car')\n",
    "        a_trial.processed_gaze_data['gaze_el_rel_head_filtered'] = a_trial.filter_spherical_coords('gaze_el_rel_head')\n",
    "        a_trial.processed_gaze_data['gaze_az_rel_car_vel_filtered'] = a_trial.calc_filtered_spherical_vel('gaze_az_rel_car_filtered')\n",
    "        a_trial.processed_gaze_data['gaze_el_rel_head_vel_filtered'] = a_trial.calc_filtered_spherical_vel('gaze_el_rel_head_filtered')\n",
    "        a_trial.processed_gaze_data['total_vel_degs_per_sec'] = np.sqrt(a_trial.processed_gaze_data['gaze_az_rel_car_vel_filtered']**2 + \n",
    "                                                                  a_trial.processed_gaze_data['gaze_el_rel_head_vel_filtered']**2)\n",
    "\n",
    "        #a_trial.processed_gaze_data['subject_group'] = subfolder.split('\\\\')[-2]\n",
    "        a_trial.processed_gaze_data['subject_group'] = subfolder.split('/')[-2] # on mac\n",
    "        a_trial.processed_gaze_data['turn_direction'] = a_trial.results['turn_direction']\n",
    "        a_trial.processed_gaze_data['turn_radius'] = a_trial.results['turn_radius']\n",
    "        a_trial.processed_gaze_data['optic_flow'] = a_trial.results['contrast']\n",
    "    \n",
    "        a_trial.processed_gaze_data['ppid'] = subfolder.split(\"/\")[-1].split('_')[0]\n",
    "\n",
    "        a_trial.calc_mean_gaze_behavior_over_segment(30,70)\n",
    "        a_trial.calc_mean_gaze_behavior_over_segment(0,14)\n",
    "        a_trial.calc_mean_gaze_behavior_over_segment(14,30)\n",
    "        a_trial.calc_mean_gaze_behavior_over_segment(70,91) # if 99, cb13 and cb35, BH will throw an out of index error, don't know why. 96 works unless undergrads included, then must be \n",
    "            \n",
    "        a_subject.results['subject_group'] = subfolder.split(r'/')[-1].split('_')[0][:5] # on mac\n",
    "    \n",
    "        all_trials_gaze = pd.concat([all_trials_gaze, a_trial.processed_gaze_data])\n",
    "\n",
    "    a_subject.results['subject_group'] = subfolder.split(r'/')[-1].split('_')[0][:5]\n",
    "    \n",
    "    subject_results = pd.concat([subject_results, a_subject.results])"
   ]
  },
  {
   "cell_type": "code",
   "execution_count": 7,
   "id": "2a876758",
   "metadata": {},
   "outputs": [],
   "source": [
    "data = subject_results.copy(deep=True)\n",
    "data.loc[data['subject_group'] == 'older', 'subject_group'] = 'Older Adults' # rename column\n",
    "data.loc[data['subject_group'] == 'young', 'subject_group'] = 'Younger Adults' # rename column"
   ]
  },
  {
   "cell_type": "markdown",
   "id": "f05ff823-2686-4853-85af-c17539a3a404",
   "metadata": {},
   "source": [
    "## Plotting facet grid of all participants to show gaze variability"
   ]
  },
  {
   "cell_type": "code",
   "execution_count": 8,
   "id": "c134369d-4154-4551-ae2e-495a9ccc182e",
   "metadata": {},
   "outputs": [
    {
     "data": {
      "image/png": "[encoded data removed]",
      "text/plain": [
       "<Figure size 640x480 with 1 Axes>"
      ]
     },
     "metadata": {},
     "output_type": "display_data"
    }
   ],
   "source": [
    "import matplotlib\n",
    "matplotlib.rcParams.update(matplotlib.rcParamsDefault)\n",
    "\n",
    "histogram_data = data.copy(deep=True)\n",
    "histogram_data.loc[histogram_data['turn_direction']=='left','gaze_az_rel_car_filtered_30_70'] = - histogram_data.loc[histogram_data['turn_direction']=='left','gaze_az_rel_car_filtered_30_70']\n",
    "all_data = np.array([])\n",
    "all_data_means = []\n",
    "for ppid in np.unique(histogram_data['ppid']):\n",
    "    plotting_hist_data = histogram_data.loc[histogram_data['ppid']==ppid,'gaze_az_rel_car_filtered_30_70']\n",
    "    mean_centered = plotting_hist_data - plotting_hist_data.mean()\n",
    "    all_data_means.append(plotting_hist_data.mean())\n",
    "    all_data = np.concatenate((all_data, mean_centered), axis=0)\n",
    "plt.figure()\n",
    "plt.hist(all_data, density=True, bins=20)\n",
    "plt.show()\n",
    "# all_data represents data from all participants within central 40% of trials. Data from each participant is mean-centered and the histogram is made by pooling all data "
   ]
  },
  {
   "cell_type": "code",
   "execution_count": 9,
   "id": "b42c84ad-4bad-4bfd-be17-c99a4e7559db",
   "metadata": {},
   "outputs": [
    {
     "data": {
      "text/plain": [
       "<Figure size 640x480 with 0 Axes>"
      ]
     },
     "metadata": {},
     "output_type": "display_data"
    },
    {
     "data": {
      "image/png": "[encoded data removed]",
      "text/plain": [
       "<Figure size 500x600 with 12 Axes>"
      ]
     },
     "metadata": {},
     "output_type": "display_data"
    }
   ],
   "source": [
    "plt.figure(0)\n",
    "warnings.filterwarnings('ignore')\n",
    "\n",
    "# Initialize the FacetGrid object\n",
    "pal = sns.cubehelix_palette(12, rot=-0.25, light=.7, hue=1)\n",
    "g = sns.FacetGrid(data.loc[data['subject_group']=='Younger Adults', ['gaze_az_rel_car_filtered_30_70','ppid']], row=\"ppid\", hue=\"ppid\", aspect=10, height=.5, palette=pal)\n",
    "\n",
    "# Draw the densities in a few steps\n",
    "g.map(sns.kdeplot, \"gaze_az_rel_car_filtered_30_70\",\n",
    "      bw_adjust=.5, clip_on=False,\n",
    "      fill=True, alpha=1, linewidth=1.5)\n",
    "#g.map(sns.kdeplot, \"gaze_az_rel_car_filtered_30_70\", clip_on=False, color=\"w\", lw=2, bw_adjust=.5)\n",
    "\n",
    "# passing color=None to refline() uses the hue mapping\n",
    "g.refline(y=0, linewidth=2, linestyle=\"-\", color=None, clip_on=False)\n",
    "\n",
    "\n",
    "# Define and use a simple function to label the plot in axes coordinates\n",
    "def label(x, color, label):\n",
    "    ax = plt.gca()\n",
    "    ax.text(0, .2, label, fontweight=\"bold\", color=color,\n",
    "            ha=\"left\", va=\"center\", transform=ax.transAxes)\n",
    "\n",
    "#g.map(label, \"gaze_az_rel_car_filtered_30_70\")\n",
    "\n",
    "# Set the subplots to overlap\n",
    "g.figure.subplots_adjust(hspace=0.15)\n",
    "\n",
    "# Remove axes details that don't play well with overlap\n",
    "g.set_titles(\"\")\n",
    "g.set(yticks=[], ylabel=\"\")\n",
    "g.set(xlim=(-50,50))\n",
    "g.despine(bottom=True, left=True)\n",
    "#plt.savefig('FacetGrid-YoungerAdults.svg',dpi=300)\n",
    "plt.show()"
   ]
  },
  {
   "cell_type": "markdown",
   "id": "6b2f692d",
   "metadata": {},
   "source": [
    "# Function that plots gaze data. Can separated by turn direction, contrast, or turn radius."
   ]
  },
  {
   "cell_type": "code",
   "execution_count": 10,
   "id": "40416405",
   "metadata": {},
   "outputs": [],
   "source": [
    "# average over everything except ppid and variable of interest\n",
    "\n",
    "def plot_gaze_data(data, y_label, custom_order, hue='turn_direction', separate_by_turn_dir=False, save_plot=False):\n",
    "\n",
    "    if hue=='turn_radius':\n",
    "        palette = sns.color_palette('plasma', n_colors=3)\n",
    "        legend_labels = [35.0, 55.0, 75.0]\n",
    "        title='Turn Radius'\n",
    "    elif hue=='contrast':\n",
    "        palette='bright'\n",
    "        legend_labels = ['Low','Medium','High']\n",
    "        title = 'Optic Flow\\nDensity'\n",
    "    else: \n",
    "        palette=None\n",
    "        legend_labels = ['Left', 'Right']\n",
    "        title='Turn Direction'\n",
    "    \n",
    "    fig, ax = plt.subplots(figsize=(6,6))\n",
    "\n",
    "    data = pd.concat((data.select_dtypes(exclude=object), data[['ppid','turn_direction','subject_group']]),axis=1)\n",
    "    # flip data on left turns for gaze azimuth\n",
    "    if y_label=='gaze_az_rel_car_filtered_30_70':\n",
    "        data.loc[data['turn_direction']=='left',y_label] = - data.loc[data['turn_direction']=='left',y_label] # flip left turn data\n",
    "    # drop turn direction column if not grouping by turn dir\n",
    "    if (hue!='turn_direction' and separate_by_turn_dir==False):\n",
    "        data = data.drop('turn_direction',axis=1)\n",
    "    if separate_by_turn_dir:\n",
    "        #data = data.drop('turn_direction',axis=1)\n",
    "        data = data.groupby(['ppid','turn_direction',hue,'subject_group']).mean().reset_index()\n",
    "    else: data = data.groupby(['ppid',hue,'subject_group']).mean().reset_index()\n",
    "\n",
    "    exclude=[]\n",
    "    # passing in the \"units\" argument makes error bars across participants which is correct for repeated measures\n",
    "    if separate_by_turn_dir:\n",
    "        ax = sns.pointplot(data=data[(~data['ppid'].isin(exclude)) & (data['turn_direction']=='left')] , x='subject_group', units='ppid',\n",
    "                           y=y_label, hue=hue, linestyles='none', dodge=True, palette='pastel', order=custom_order)\n",
    "        ax = sns.pointplot(data=data[(~data['ppid'].isin(exclude)) & (data['turn_direction']=='right')] , x='subject_group',units='ppid',\n",
    "                           y=y_label, hue=hue, linestyles='none', dodge=True, palette=palette, order=custom_order)\n",
    "        #sns.stripplot(data=data[(~data['ppid'].isin(exclude))], x=\"subject_group\", y=y_label, hue=hue ,alpha=0.3, legend=False, palette=palette)\n",
    "        \n",
    "    else:\n",
    "        ax = sns.pointplot(data=data[(~data['ppid'].isin(exclude))] , x='subject_group', units='ppid',\n",
    "                           y=y_label, hue=hue, linestyles='none', dodge=True, palette=palette, order=custom_order)\n",
    "        sns.stripplot(data=data[(~data['ppid'].isin(exclude))], x=\"subject_group\", y=y_label, hue=hue,alpha=0.3, legend=False, palette=palette)\n",
    "        \n",
    "    if y_label == 'gaze_az_rel_car_filtered_30_70':\n",
    "        plt.ylabel('Avg gaze azimuth (degs)', fontsize=14) # relative to head height and parallel to ground for elevation data\n",
    "    elif y_label == 'gaze_el_rel_head_filtered_30_70':\n",
    "        plt.ylabel('Avg gaze elevation (degs)', fontsize=14) # relative to head height and parallel to ground for elevation data\n",
    "    plt.xticks(fontsize=10)\n",
    "    plt.yticks(fontsize=10)\n",
    "    \n",
    "    plt.xlabel('', fontsize=14)\n",
    "    participants_per_group = [[key,len(np.unique(group['ppid']))] for key, group in data[~data['ppid'].isin(exclude)].groupby('subject_group', observed=True)]\n",
    "    participants_per_group = pd.DataFrame(np.array(participants_per_group).T)\n",
    "    participants_per_group.columns = participants_per_group.iloc[0]\n",
    "    participants_per_group = participants_per_group[1:]\n",
    "    labels = [item.get_text() for item in ax.get_xticklabels()]\n",
    "    total_participants = 0\n",
    "\n",
    "    # uncomment if you want to plot by ppid, otherwise this will throw an error\n",
    "    #'''\n",
    "    for i in range(len(labels)):\n",
    "        total_participants += int(participants_per_group[labels[i]].values[0])\n",
    "        if labels[i] == 'Age-Matched Controls':\n",
    "            labels[i] = 'Age-Matched\\nControls' + '\\nn=' + str(participants_per_group[labels[i]].values[0])\n",
    "        else: labels[i] = labels[i] + '\\nn=' + str(participants_per_group[labels[i]].values[0])\n",
    "    ax.set_xticklabels(labels)\n",
    "    #'''\n",
    "    \n",
    "    if y_label[:7] == 'gaze_az':\n",
    "        #plt.ylim(-32,32) # azimuth\n",
    "        #plt.ylim(-25,25)\n",
    "        if separate_by_turn_dir:\n",
    "            plt.ylim(-1,29)\n",
    "        else:\n",
    "            plt.ylim(-1,29)\n",
    "            #plt.ylim(-3,3)\n",
    "    \n",
    "    # if y_label[:7] == 'gaze_el':\n",
    "    #     plt.ylim(-3,15)#(-2,8) # elevation\n",
    "        \n",
    "    ax.axhline(y=0, color='k', linestyle='--')\n",
    "    plt.grid(visible=True)\n",
    "    \n",
    "\n",
    "    palette = sns.color_palette(palette, n_colors=len(legend_labels))\n",
    "    try:\n",
    "        markerfacecolors = [palette[0], palette[1], palette[2]]\n",
    "    except:\n",
    "        markerfacecolors = [palette[0], palette[1]]\n",
    "    legend_handles = []\n",
    "    for idx in range(len(markerfacecolors)):\n",
    "        legend_handles.append(plt.Line2D([0], [0], marker='o', color='w', markerfacecolor=markerfacecolors[idx], markersize=10))\n",
    "    ax.legend(handles=legend_handles, title=title, labels=legend_labels)\n",
    "    ax.set_facecolor('whitesmoke')\n",
    "    plt.grid(axis='x')\n",
    "\n",
    "    #plt.legend([],[], frameon=False)\n",
    "    if save_plot:\n",
    "        if hue=='contrast':\n",
    "            filename = 'Paper1-Gaze-Pointplot-'+y_label+ '-SeparatedByOF-FINAL-n=' + str(total_participants) + '.svg'\n",
    "        elif hue=='turn_radius':\n",
    "            filename = 'Paper1-Gaze-Pointplot-'+y_label+ '-SeparatedByTurnRadius-FINAL-n=' + str(total_participants) + '.svg'\n",
    "        else:\n",
    "            filename = 'Paper1-Gaze-Pointplot-'+y_label+'-FINAL-n=' + str(total_participants)+ '.svg'\n",
    "        print('Saved to: ', filename)\n",
    "        fig.savefig(filename, dpi=300)"
   ]
  },
  {
   "cell_type": "code",
   "execution_count": 11,
   "id": "5cbd1a2f-190d-49cf-9c59-4e68c1daa998",
   "metadata": {},
   "outputs": [
    {
     "data": {
      "text/plain": [
       "<Figure size 640x480 with 0 Axes>"
      ]
     },
     "metadata": {},
     "output_type": "display_data"
    },
    {
     "data": {
      "image/png": "[encoded data removed]",
      "text/plain": [
       "<Figure size 600x600 with 1 Axes>"
      ]
     },
     "metadata": {},
     "output_type": "display_data"
    }
   ],
   "source": [
    "custom_order = ['Younger Adults', 'Older Adults']\n",
    "plt.figure(1)\n",
    "plot_gaze_data(data, hue='turn_radius', y_label='gaze_az_rel_car_filtered_30_70', custom_order=custom_order, separate_by_turn_dir=False, save_plot=False)\n",
    "plt.show()"
   ]
  },
  {
   "cell_type": "markdown",
   "id": "2c302400",
   "metadata": {},
   "source": [
    "## Save gaze azimuth and elevation data to csv files for use in jasp to test for significance"
   ]
  },
  {
   "cell_type": "code",
   "execution_count": 12,
   "id": "2ba478fc",
   "metadata": {},
   "outputs": [],
   "source": [
    "full_data = pd.DataFrame()\n",
    "for ppid, ppid_group in data.groupby('ppid'):\n",
    "    if ppid not in exclude:\n",
    "        for groupkey, group in ppid_group.groupby(['turn_direction', 'turn_radius', 'contrast']):\n",
    "            if groupkey[0] == 'left':\n",
    "                flag_left=-1\n",
    "            else: flag_left = 1\n",
    "            full_data.loc[ppid, str(groupkey)] = flag_left * group['gaze_el_rel_head_filtered_30_70'].mean()\n",
    "            #full_data.loc[ppid, str(groupkey)] = group['gaze_el_rel_head_filtered_30_70'].mean()\n",
    "            \n",
    "#full_data.to_csv('FINAL-Paper-1-ANOVA-Gaze-Data-Elevation-NEW.csv')"
   ]
  },
  {
   "cell_type": "code",
   "execution_count": null,
   "id": "51ce14d6-c66a-4709-b7c9-083abb163319",
   "metadata": {},
   "outputs": [],
   "source": []
  },
  {
   "cell_type": "code",
   "execution_count": null,
   "id": "75555639-5219-408b-8dda-ec2d8dba727c",
   "metadata": {},
   "outputs": [],
   "source": []
  }
 ],
 "metadata": {
  "kernelspec": {
   "display_name": "Python 3 (ipykernel)",
   "language": "python",
   "name": "python3"
  },
  "language_info": {
   "codemirror_mode": {
    "name": "ipython",
    "version": 3
   },
   "file_extension": ".py",
   "mimetype": "text/x-python",
   "name": "python",
   "nbconvert_exporter": "python",
   "pygments_lexer": "ipython3",
   "version": "3.9.19"
  }
 },
 "nbformat": 4,
 "nbformat_minor": 5
}
